{
 "cells": [
  {
   "cell_type": "markdown",
   "metadata": {},
   "source": [
    "# Storing estimated HRFs in snirf files\n",
    "\n",
    "This notebook estimates the HRF in a finger-tapping experiment by blockaveraging and then stores the result in a snirf file."
   ]
  },
  {
   "cell_type": "code",
   "execution_count": null,
   "metadata": {},
   "outputs": [],
   "source": [
    "import cedalion\n",
    "import cedalion.nirs\n",
    "import cedalion.datasets\n",
    "import cedalion.io\n",
    "\n",
    "from snirf import Snirf\n",
    "import numpy as np\n",
    "import xarray as xr\n",
    "\n",
    "import matplotlib.pyplot as p\n",
    "import os.path\n",
    "import tempfile\n",
    "\n",
    "xr.set_options(display_max_rows=3, display_values_threshold=50, display_expand_data=False)\n",
    "np.set_printoptions(precision=4)"
   ]
  },
  {
   "cell_type": "markdown",
   "metadata": {},
   "source": [
    "## Load a finger-tapping dataset \n",
    "\n",
    "For this demo we load an example finger-tapping recording through `cedalion.datasets.get_fingertapping`. The file contains a single NIRS element with one block of raw amplitude data. "
   ]
  },
  {
   "cell_type": "code",
   "execution_count": null,
   "metadata": {},
   "outputs": [],
   "source": [
    "elements = cedalion.datasets.get_fingertapping()"
   ]
  },
  {
   "cell_type": "code",
   "execution_count": null,
   "metadata": {},
   "outputs": [],
   "source": [
    "amp = elements[0].data[0]\n",
    "stim = elements[0].stim # pandas Dataframe\n",
    "geo3d = elements[0].geo3d\n",
    "    \n",
    "# Rename events\n",
    "stim.cd.rename_events( {\n",
    "    \"1.0\" : \"control\",\n",
    "    \"2.0\" : \"Tapping/Left\",\n",
    "    \"3.0\" : \"Tapping/Right\"\n",
    "})"
   ]
  },
  {
   "cell_type": "markdown",
   "metadata": {},
   "source": [
    "## Calculate concentrations"
   ]
  },
  {
   "cell_type": "code",
   "execution_count": null,
   "metadata": {},
   "outputs": [],
   "source": [
    "dpf = xr.DataArray([6, 6], dims=\"wavelength\", coords={\"wavelength\" : amp.wavelength})\n",
    "od = - np.log( amp / amp.mean(\"time\") )\n",
    "conc = cedalion.nirs.beer_lambert(amp, geo3d, dpf)"
   ]
  },
  {
   "cell_type": "markdown",
   "metadata": {},
   "source": [
    "## Frequency filtering and splitting into epochs"
   ]
  },
  {
   "cell_type": "code",
   "execution_count": null,
   "metadata": {},
   "outputs": [],
   "source": [
    "conc_freqfilt = conc.cd.freq_filter(fmin=0.02, fmax=0.5, butter_order=4)\n",
    "\n",
    "    \n",
    "cf_epochs = conc_freqfilt.cd.to_epochs(\n",
    "    stim, # stimulus dataframe\n",
    "    [\"Tapping/Left\", \"Tapping/Right\"],  # select events\n",
    "    before=5, # seconds before stimulus\n",
    "    after=20  # seconds after stimulus\n",
    ")"
   ]
  },
  {
   "cell_type": "markdown",
   "metadata": {},
   "source": [
    "## Blockaveraging to estimate the HRFs"
   ]
  },
  {
   "cell_type": "code",
   "execution_count": null,
   "metadata": {},
   "outputs": [],
   "source": [
    "# calculate baseline\n",
    "baseline = cf_epochs.sel(reltime=(cf_epochs.reltime < 0)).mean(\"reltime\")\n",
    "# subtract baseline\n",
    "epochs_blcorrected = cf_epochs - baseline\n",
    "\n",
    "# group trials by trial_type. For each group individually average the epoch dimension\n",
    "blockaverage = epochs_blcorrected.groupby(\"trial_type\").mean(\"epoch\")\n",
    "\n",
    "display(blockaverage)"
   ]
  },
  {
   "cell_type": "markdown",
   "metadata": {},
   "source": [
    "## Store HRFs "
   ]
  },
  {
   "cell_type": "code",
   "execution_count": null,
   "metadata": {},
   "outputs": [],
   "source": [
    "tmpdir = tempfile.TemporaryDirectory()\n",
    "snirf_fname = os.path.join(tmpdir.name, \"test.snirf\")"
   ]
  },
  {
   "cell_type": "code",
   "execution_count": null,
   "metadata": {
    "scrolled": false
   },
   "outputs": [],
   "source": [
    "cedalion.io.snirf.write_snirf(\n",
    "    snirf_fname, \n",
    "    \"hrf\", \n",
    "    blockaverage, \n",
    "    geo3d, \n",
    "    stim\n",
    ")"
   ]
  },
  {
   "cell_type": "markdown",
   "metadata": {},
   "source": [
    "## Inspect snirf file"
   ]
  },
  {
   "cell_type": "code",
   "execution_count": null,
   "metadata": {},
   "outputs": [],
   "source": [
    "s = Snirf(snirf_fname)"
   ]
  },
  {
   "cell_type": "markdown",
   "metadata": {},
   "source": [
    "#### Stim DataFrame"
   ]
  },
  {
   "cell_type": "code",
   "execution_count": null,
   "metadata": {},
   "outputs": [],
   "source": [
    "cedalion.io.snirf.stim_to_dataframe(s.nirs[0].stim)"
   ]
  },
  {
   "cell_type": "markdown",
   "metadata": {},
   "source": [
    "#### MeasurementList DataFrame"
   ]
  },
  {
   "cell_type": "code",
   "execution_count": null,
   "metadata": {},
   "outputs": [],
   "source": [
    "df_ml = cedalion.io.snirf.measurement_list_to_dataframe(s.nirs[0].data[0].measurementList, drop_none=True)\n",
    "df_ml"
   ]
  },
  {
   "cell_type": "code",
   "execution_count": null,
   "metadata": {},
   "outputs": [],
   "source": [
    "s.close()"
   ]
  },
  {
   "cell_type": "markdown",
   "metadata": {},
   "source": [
    "## Read HRFs from snirf file\n",
    "\n",
    "Note: read_snirf names the time dimension `time` whereas in `blockaverage` it was called `reltime`. Need to agree on a convention."
   ]
  },
  {
   "cell_type": "code",
   "execution_count": null,
   "metadata": {},
   "outputs": [],
   "source": [
    "hrf_elements = cedalion.io.read_snirf(snirf_fname)"
   ]
  },
  {
   "cell_type": "code",
   "execution_count": null,
   "metadata": {
    "scrolled": false
   },
   "outputs": [],
   "source": [
    "read_blockaverage = hrf_elements[0].data[0]\n",
    "display(read_blockaverage)"
   ]
  },
  {
   "cell_type": "markdown",
   "metadata": {},
   "source": [
    "#### Assert that the written and read HRFs are identical."
   ]
  },
  {
   "cell_type": "code",
   "execution_count": null,
   "metadata": {},
   "outputs": [],
   "source": [
    "assert (read_blockaverage.rename({\"time\" : \"reltime\"}) == blockaverage).all()"
   ]
  },
  {
   "cell_type": "markdown",
   "metadata": {},
   "source": [
    "## Plot the HRFs"
   ]
  },
  {
   "cell_type": "code",
   "execution_count": null,
   "metadata": {},
   "outputs": [],
   "source": [
    "ba = read_blockaverage\n",
    "\n",
    "f,ax = p.subplots(5,6, figsize=(12,10))\n",
    "ax = ax.flatten()\n",
    "for i_ch, ch in enumerate(ba.channel.values):\n",
    "    for ls, trial_type in zip([\"-\", \"--\"], ba.trial_type):    \n",
    "        ax[i_ch].plot(ba.time, ba.sel(chromo=\"HbO\", trial_type=trial_type, channel=ch), \"r\", lw=2, ls=ls)\n",
    "        ax[i_ch].plot(ba.time, ba.sel(chromo=\"HbR\", trial_type=trial_type, channel=ch), \"b\", lw=2, ls=ls)\n",
    "    ax[i_ch].grid(1)\n",
    "    ax[i_ch].set_title(ch)\n",
    "    ax[i_ch].set_ylim(-.3, .6)\n",
    "\n",
    "p.tight_layout()"
   ]
  },
  {
   "cell_type": "markdown",
   "metadata": {},
   "source": [
    "## Tidy up"
   ]
  },
  {
   "cell_type": "code",
   "execution_count": null,
   "metadata": {},
   "outputs": [],
   "source": [
    "del tmpdir"
   ]
  }
 ],
 "metadata": {
  "kernelspec": {
   "display_name": "Python 3 (ipykernel)",
   "language": "python",
   "name": "python3"
  },
  "language_info": {
   "codemirror_mode": {
    "name": "ipython",
    "version": 3
   },
   "file_extension": ".py",
   "mimetype": "text/x-python",
   "name": "python",
   "nbconvert_exporter": "python",
   "pygments_lexer": "ipython3",
   "version": "3.10.13"
  }
 },
 "nbformat": 4,
 "nbformat_minor": 2
}
